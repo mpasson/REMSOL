{
 "cells": [
  {
   "cell_type": "markdown",
   "metadata": {},
   "source": [
    "# Neff calcularion and field plotting\n",
    "\n",
    "This example shows the basic usage of REMSOL package, namely the calculation of the effective refractive index and the field plotting."
   ]
  },
  {
   "cell_type": "markdown",
   "metadata": {},
   "source": [
    "## Importing packages\n",
    "Besides REMSOL itself, it is also useful to import the `Polarization` enum for choosing the polarization of the mode.\n",
    "\n"
   ]
  },
  {
   "cell_type": "code",
   "execution_count": null,
   "metadata": {},
   "outputs": [],
   "source": [
    "import numpy as np\n",
    "import matplotlib.pyplot as plt\n",
    "import remsol\n",
    "from remsol import Polarization as pol"
   ]
  },
  {
   "cell_type": "markdown",
   "metadata": {},
   "source": [
    "## Definiton of the waveguide\n",
    "This example features a simple slab waveguide with a refractive index of 2.0 suspended in air (refractive index of 1.0). The code works in adimensional units, but for typical optical application the lengths can be thought of as micrometers. The thickness of the slab is thus set as 0.6. The thicknesses ot the first and last layers are irrelevant for the calculations and are only used to define the plotting window. "
   ]
  },
  {
   "cell_type": "code",
   "execution_count": null,
   "metadata": {},
   "outputs": [],
   "source": [
    "multi_layer = remsol.MultiLayer(\n",
    "    [\n",
    "        remsol.Layer(n=1.0, d=2.0),\n",
    "        remsol.Layer(n=2.0, d=0.6),\n",
    "        remsol.Layer(n=1.0, d=2.0)\n",
    "    ]\n",
    ")"
   ]
  },
  {
   "cell_type": "markdown",
   "metadata": {},
   "source": [
    "## Plotting index profile\n",
    "The index profile can be obtained by calling the `index` method of the `MultiLayer` object."
   ]
  },
  {
   "cell_type": "code",
   "execution_count": null,
   "metadata": {},
   "outputs": [],
   "source": [
    "index = multi_layer.index()\n",
    "fig, ax = plt.subplots(1, 1, figsize=(15, 5))\n",
    "ax.plot(index.x, index.n)\n",
    "ax.set_xlabel('x')\n",
    "ax.set_ylabel('Refraction index')"
   ]
  },
  {
   "cell_type": "markdown",
   "metadata": {},
   "source": [
    "## Calculation of the effective index and filed plotting\n",
    "\n",
    "The effective index can be calculated calling the `neff` method of the `MultiLayer` object. If the requested mode is not found, and exception is raised. The parameter omega is the angular frequency of the mode. It is also in adimensional units, but can be thought of as $2\\pi /\\lambda$, where $\\lambda$ is the wavelength in the same length unit used to define the structure.\n",
    "\n",
    "The filed can be obtained by calling the `field` method of the `MultiLayer` object. The returned object is `FieldData` object containing the all the components of the **E** and **H** as attributes. By default, the multilayer is stacked in the *x* direction, *z* is the direction of propagation and *y* is the transverse direction. "
   ]
  },
  {
   "cell_type": "code",
   "execution_count": null,
   "metadata": {},
   "outputs": [],
   "source": [
    "index = multi_layer.index()\n",
    "X, I = np.meshgrid(index.x, [-25.0, 25.0], indexing=\"ij\")\n",
    "N, I = np.meshgrid(index.n, [-25.0, 25.0], indexing=\"ij\")\n",
    "\n",
    "fig, ax = plt.subplots(2,2, figsize=(15,10))\n",
    "\n",
    "for polarization, _ax in zip([pol.TE, pol.TM], ax):\n",
    "    for mode, a in enumerate(_ax):\n",
    "        neff = multi_layer.neff(omega=2.0 * np.pi / 1.55, polarization=polarization, mode=mode)\n",
    "        field = multi_layer.field(omega=2.0 * np.pi / 1.55, polarization=polarization, mode=mode)\n",
    "        _=a.contourf(X, I, N, levels=100, cmap=\"viridis\", alpha=0.2)\n",
    "        cbar = plt.colorbar(_)\n",
    "        cbar.set_label(\"Refractive index\")\n",
    "        a.plot(field.x, np.real(field.Ex) + np.imag(field.Ex), label=\"Ex\")\n",
    "        a.plot(field.x, np.real(field.Ey) + np.imag(field.Ey), label=\"Ey\")\n",
    "        a.plot(field.x, np.real(field.Ez) + np.imag(field.Ez), label=\"Ez\")\n",
    "        a.legend()\n",
    "        a.set_title(f\"{polarization},  Mode {mode}, neff = {neff}\")\n",
    "        a.set_xlabel(\"x\")\n",
    "        a.set_ylabel(\"E\")"
   ]
  }
 ],
 "metadata": {
  "kernelspec": {
   "display_name": ".venv",
   "language": "python",
   "name": "python3"
  },
  "language_info": {
   "codemirror_mode": {
    "name": "ipython",
    "version": 3
   },
   "file_extension": ".py",
   "mimetype": "text/x-python",
   "name": "python",
   "nbconvert_exporter": "python",
   "pygments_lexer": "ipython3",
   "version": "3.12.5"
  }
 },
 "nbformat": 4,
 "nbformat_minor": 2
}
