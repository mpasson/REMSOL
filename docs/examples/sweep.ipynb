{
 "cells": [
  {
   "cell_type": "markdown",
   "metadata": {},
   "source": [
    "# Frequency sweep and dispersive materials\n",
    "\n",
    "This example show how to make frequency sweeps and hot to treat dispersive materials in a simulation."
   ]
  },
  {
   "cell_type": "markdown",
   "metadata": {},
   "source": [
    "## Import packages"
   ]
  },
  {
   "cell_type": "code",
   "execution_count": null,
   "metadata": {},
   "outputs": [],
   "source": [
    "import numpy as np\n",
    "import matplotlib.pyplot as plt\n",
    "\n",
    "import remsol\n",
    "from remsol import Polarization as pol"
   ]
  },
  {
   "cell_type": "markdown",
   "metadata": {},
   "source": [
    "## Frequency sweep"
   ]
  },
  {
   "cell_type": "markdown",
   "metadata": {},
   "source": [
    "### Structure definition\n",
    "\n",
    "Structure definition is the same as in the previous example."
   ]
  },
  {
   "cell_type": "code",
   "execution_count": null,
   "metadata": {},
   "outputs": [],
   "source": [
    "# Define the layers\n",
    "layers = [\n",
    "    remsol.Layer(n=1.0, d=1.0),\n",
    "    remsol.Layer(n=2.0, d=1.0),\n",
    "    remsol.Layer(n=1.0, d=1.0),\n",
    "]\n",
    "\n",
    "# Define the multilayer\n",
    "multilayer = remsol.MultiLayer(layers)\n",
    "\n"
   ]
  },
  {
   "cell_type": "markdown",
   "metadata": {},
   "source": [
    "### Wrapper function definition\n",
    "\n",
    "Instead of calling `multilayer.neff` directly, we will define a wrapper function which catches the exception and returns `np.nan` in case the mode is not found."
   ]
  },
  {
   "cell_type": "code",
   "execution_count": null,
   "metadata": {},
   "outputs": [],
   "source": [
    "def neff_wrapper(omega: float, polarization: pol, mode: int):\n",
    "    try:\n",
    "        return multilayer.neff(omega, polarization, mode)\n",
    "    except Exception as e:\n",
    "        return np.nan"
   ]
  },
  {
   "cell_type": "code",
   "execution_count": null,
   "metadata": {},
   "outputs": [],
   "source": [
    "omegas = np.linspace(0.01, 10, 101)\n",
    "fig, ax = plt.subplots(1,1, figsize=(10, 5))\n",
    "for mode in range(8):\n",
    "    neffs = [neff_wrapper(om, pol.TE, mode) for om in omegas]\n",
    "    ax.plot(omegas, neffs, 'b-')\n",
    "    neffs = [neff_wrapper(om, pol.TM, mode) for om in omegas]\n",
    "    ax.plot(omegas, neffs, 'r-')\n",
    "ax.set_xlabel('Frequency $\\omega t/2 \\pi c$')\n",
    "ax.set_ylabel('Effective index')\n",
    "ax.grid()\n"
   ]
  },
  {
   "cell_type": "markdown",
   "metadata": {},
   "source": [
    "## Dispersive materials\n",
    "\n",
    "The module has no built-in support for dispersive materials, but it is possible to define the structure as a function of frequency and call the solver for each frequency."
   ]
  },
  {
   "cell_type": "markdown",
   "metadata": {},
   "source": [
    "### Wrapper function defiition\n",
    "\n",
    "It is still important for the wrapper function to handle the mode not found exception."
   ]
  },
  {
   "cell_type": "code",
   "execution_count": null,
   "metadata": {},
   "outputs": [],
   "source": [
    "def n_function(omega: float):\n",
    "    return 2.0 -0.5 * omega**2 / (10.0+omega**2)\n",
    "\n",
    "\n",
    "def calculate_neff(omega: float, polarization: pol, mode: int):\n",
    "    layers = [\n",
    "        remsol.Layer(n=1.0, d=1.0),\n",
    "        remsol.Layer(n=n_function(omega=omega), d=1.0),\n",
    "        remsol.Layer(n=1.0, d=1.0),\n",
    "    ]\n",
    "    \n",
    "    multilayer = remsol.MultiLayer(layers)\n",
    "    \n",
    "    try:\n",
    "        return multilayer.neff(omega, polarization, mode)\n",
    "    except Exception as e:\n",
    "        return np.nan\n",
    "    \n",
    "omegas = np.linspace(0.01, 10, 101)\n",
    "fig, ax = plt.subplots(1, 1, figsize=(10, 5))\n",
    "for mode in range(8):\n",
    "    neffs = [calculate_neff(om, pol.TE, mode) for om in omegas]\n",
    "    te_plot=ax.plot(omegas, neffs, \"b-\")\n",
    "    neffs = [calculate_neff(om, pol.TM, mode) for om in omegas]\n",
    "    tm_plot=ax.plot(omegas, neffs, \"r-\")\n",
    "core_plot = ax.plot(omegas, [n_function(omega=om) for om in omegas], \"k--\")\n",
    "ax.legend([core_plot[0], te_plot[0], tm_plot[0]], [\"Core Index\", \"TE modes\", \"TM modes\"], loc=\"upper right\")\n",
    "ax.set_xlabel(\"Frequency $\\omega t/2 \\pi c$\")\n",
    "ax.set_ylabel(\"Effective index\")\n",
    "ax.grid()"
   ]
  }
 ],
 "metadata": {
  "kernelspec": {
   "display_name": ".venv",
   "language": "python",
   "name": "python3"
  },
  "language_info": {
   "codemirror_mode": {
    "name": "ipython",
    "version": 3
   },
   "file_extension": ".py",
   "mimetype": "text/x-python",
   "name": "python",
   "nbconvert_exporter": "python",
   "pygments_lexer": "ipython3",
   "version": "3.12.5"
  }
 },
 "nbformat": 4,
 "nbformat_minor": 2
}
